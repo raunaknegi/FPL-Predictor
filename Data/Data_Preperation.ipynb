{
 "cells": [
  {
   "cell_type": "markdown",
   "metadata": {
    "colab_type": "text",
    "id": "HiOeMWbGt2rF"
   },
   "source": [
    "# Creates player data files for a season\n",
    "## Imports and Data reads"
   ]
  },
  {
   "cell_type": "code",
   "execution_count": 107,
   "metadata": {},
   "outputs": [],
   "source": [
    "import pandas as pd\n",
    "import numpy as np\n",
    "pd.options.mode.chained_assignment = None\n",
    "\n",
    "season = '2021-22'\n",
    "\n",
    "players_raw = pd.read_csv('https://raw.githubusercontent.com/vaastav/Fantasy-Premier-League/master/data/' + season + '/players_raw.csv')\n",
    "input_merged_gw = pd.read_csv('https://raw.githubusercontent.com/vaastav/Fantasy-Premier-League/master/data/' + season + '/gws/merged_gw.csv', encoding = \"ISO-8859-1\")"
   ]
  },
  {
   "cell_type": "code",
   "execution_count": null,
   "metadata": {},
   "outputs": [],
   "source": []
  },
  {
   "cell_type": "markdown",
   "metadata": {
    "colab_type": "text",
    "id": "i0Ev1pznG8kq"
   },
   "source": [
    "## Basic player info\n",
    "Reads basic info about the player such as ids, names and position"
   ]
  },
  {
   "cell_type": "code",
   "execution_count": 108,
   "metadata": {
    "colab": {},
    "colab_type": "code",
    "id": "__g4I0OrG_vW"
   },
   "outputs": [],
   "source": [
    "player_info = players_raw.copy()\n",
    "player_info = player_info[['id','first_name','second_name','element_type','now_cost','team_code']]\n",
    "player_info.rename(columns = {'id':'player_id','element_type':'position','now_cost':'cost'}, inplace = True)"
   ]
  },
  {
   "cell_type": "markdown",
   "metadata": {
    "colab_type": "text",
    "id": "LA8FRjvYuecU"
   },
   "source": [
    "## Set Opponent Difficulty\n",
    "Difficulty = number of points the team finished the season on. Projections are used for the 19/20 season as it is currently ongoing."
   ]
  },
  {
   "cell_type": "code",
   "execution_count": 109,
   "metadata": {
    "colab": {},
    "colab_type": "code",
    "id": "XZC66c5pfHnu"
   },
   "outputs": [],
   "source": [
    "opp_diff_array = np.zeros(21)\n",
    "\n",
    "#21/22 Season expected points\n",
    "opp_diff_array[1] = 59  # Arsenal\n",
    "opp_diff_array[2] = 44  # Aston Villa\n",
    "opp_diff_array[3] = 45  # Brentford\n",
    "opp_diff_array[4] = 54  # Brighton\n",
    "opp_diff_array[5] = 39  # Burnley\n",
    "opp_diff_array[6] = 79   # Chelsea\n",
    "opp_diff_array[7] = 50   # Crystal Palace\n",
    "opp_diff_array[8] = 47   # Everton\n",
    "opp_diff_array[9] = 52  # Leicester\n",
    "opp_diff_array[10] = 44  # Leeds\n",
    "opp_diff_array[11] = 81.0 # Liverpool\n",
    "opp_diff_array[12] = 85 # Man City\n",
    "opp_diff_array[13] = 62    # Man Utd\n",
    "opp_diff_array[14] = 32 # Newcastle\n",
    "opp_diff_array[15] = 28 # Norwich\n",
    "opp_diff_array[16] = 46 # Southampton\n",
    "opp_diff_array[17] = 53 # Spurs\n",
    "opp_diff_array[18] = 34 # Watford\n",
    "opp_diff_array[19] = 64 # West Ham\n",
    "opp_diff_array[20] = 48 # Wolves\n",
    "\n",
    "#20/21 Season\n",
    "# opp_diff_array[1] = 61  # Arsenal\n",
    "# opp_diff_array[2] = 55  # Aston Villa\n",
    "# opp_diff_array[3] = 41  # Brighton\n",
    "# opp_diff_array[4] = 39     # Burnley\n",
    "# opp_diff_array[5] = 67   # Chelsea\n",
    "# opp_diff_array[6] = 44   # Crystal Palace\n",
    "# opp_diff_array[7] = 59   # Everton\n",
    "# opp_diff_array[8] = 28  # Fulham\n",
    "# opp_diff_array[9] = 66  # Leicester\n",
    "# opp_diff_array[10] = 59  # Leeds\n",
    "# opp_diff_array[11] = 69 # Liverpool\n",
    "# opp_diff_array[12] = 86 # Man City\n",
    "# opp_diff_array[13] = 74    # Man Utd\n",
    "# opp_diff_array[14] = 45 # Newcastle\n",
    "# opp_diff_array[15] = 23 # Sheffield Utd\n",
    "# opp_diff_array[16] = 43 # Southampton\n",
    "# opp_diff_array[17] = 62 # Spurs\n",
    "# opp_diff_array[18] = 26 # West Brom\n",
    "# opp_diff_array[19] = 65 # West Ham\n",
    "# opp_diff_array[20] = 45 # Wolves\n",
    "\n",
    "# 19/20 Season\n",
    "# opp_diff_array[1] = 54.29  # Arsenal\n",
    "# opp_diff_array[2] = 33.93  # Aston Villa\n",
    "# opp_diff_array[3] = 35.38  # Bournemouth\n",
    "# opp_diff_array[4] = 38     # Brighton\n",
    "# opp_diff_array[5] = 51.1   # Burnley\n",
    "# opp_diff_array[6] = 62.9   # Chelsea\n",
    "# opp_diff_array[7] = 51.1   # Crystal Palace\n",
    "# opp_diff_array[8] = 48.48  # Everton\n",
    "# opp_diff_array[9] = 69.44  # Leicester\n",
    "# opp_diff_array[10] = 107.45# Liverpool\n",
    "# opp_diff_array[11] = 77.36 # Man City\n",
    "# opp_diff_array[12] = 59    # Man Utd\n",
    "# opp_diff_array[13] = 46.86 # Newcastle\n",
    "# opp_diff_array[14] = 27.52 # Norwich\n",
    "# opp_diff_array[15] = 58.36 # Sheffield Utd\n",
    "# opp_diff_array[16] = 44.55 # Southampton\n",
    "# opp_diff_array[17] = 53.72 # Spurs\n",
    "# opp_diff_array[18] = 35.38 # Watford\n",
    "# opp_diff_array[19] = 35.38 # West Ham\n",
    "# opp_diff_array[20] = 56.34 # Wolves\n",
    "\n",
    "# 18/19 Season\n",
    "# opp_diff_array[1] = 70  # Arsenal\n",
    "# opp_diff_array[2] = 45  # Bournemouth\n",
    "# opp_diff_array[3] = 36  # Brighton\n",
    "# opp_diff_array[4] = 40  # Burnley\n",
    "# opp_diff_array[5] = 34  # Cardiff City\n",
    "# opp_diff_array[6] = 72  # Chelsea\n",
    "# opp_diff_array[7] = 49  # Crystal Palace\n",
    "# opp_diff_array[8] = 54  # Everton\n",
    "# opp_diff_array[9] = 26  # Fulham\n",
    "# opp_diff_array[10] = 16 # Huddersfield\n",
    "# opp_diff_array[11] = 52 # Leicester\n",
    "# opp_diff_array[12] = 97 # Liverpool\n",
    "# opp_diff_array[13] = 98 # Man city\n",
    "# opp_diff_array[14] = 55 # Man Utd\n",
    "# opp_diff_array[15] = 45 # Newcastle\n",
    "# opp_diff_array[16] = 39 # Southampton\n",
    "# opp_diff_array[17] = 71 # Spurs\n",
    "# opp_diff_array[18] = 50 # Watford\n",
    "# opp_diff_array[19] = 52 # West Ham\n",
    "# opp_diff_array[20] = 57 # Wolves"
   ]
  },
  {
   "cell_type": "markdown",
   "metadata": {
    "colab_type": "text",
    "id": "ayqasimcuao6"
   },
   "source": [
    "## Create rolling df\n",
    "Creates rolling dataframe where each entry contains statistics from the previous *n_prev_games* (=3 by default). Removes gameweeks in the range of 1-*n_prev_games* due to the lack of sufficient prevouis games played."
   ]
  },
  {
   "cell_type": "code",
   "execution_count": 110,
   "metadata": {
    "colab": {},
    "colab_type": "code",
    "id": "opoRiCHoeOdo"
   },
   "outputs": [],
   "source": [
    "n_prev_gws = 3\n",
    "\n",
    "merged_gw = input_merged_gw.copy()\n",
    "\n",
    "# Limit gw info coloumns and rename them\n",
    "merged_gw = merged_gw[['element','GW','total_points','minutes','was_home','assists','bps','clean_sheets','goals_conceded',\n",
    "                          'goals_scored','ict_index','influence','opponent_team','own_goals','penalties_missed','value',\n",
    "                          'penalties_saved','yellow_cards','red_cards','saves','selected','threat','creativity',\n",
    "                          'transfers_balance']]\n",
    "\n",
    "\n",
    "merged_gw.rename(columns = {'element':'player_id','transfer_balance':'net_transfers','selected':'selected_by',\n",
    "                            'total_points':'points'}, inplace = True)\n",
    "\n",
    "# Merge player info and gameweek info dfs\n",
    "df = pd.merge(merged_gw,player_info, on='player_id').fillna(0)\n",
    "\n",
    "# Set the opp_diff for each game\n",
    "df['opp_diff'] = opp_diff_array[df.opponent_team]\n",
    "\n",
    "df = df.set_index(['GW'])\n",
    "\n",
    "# Constant coloumns holding the basic player data\n",
    "df_const_cols = df[['player_id','position','first_name','second_name','team_code','points','opp_diff','was_home','minutes','value']]\n",
    "\n",
    "# Set the statistics for a player for a gameweek equal to the sum of the statistics from the n_prev_gws gameweeks\n",
    "df = df.groupby(['player_id']).rolling(n_prev_gws).agg({'minutes':np.sum, 'bps':np.sum, 'influence':np.sum,\n",
    "                                                        'threat':np.sum,'ict_index':np.sum, 'creativity':np.sum,\n",
    "                                                        'yellow_cards':np.sum, 'red_cards':np.sum, 'selected_by':np.sum,\n",
    "                                                        'transfers_balance':np.sum, 'goals_scored':np.sum,\n",
    "                                                        'assists':np.sum, 'points':np.sum,\n",
    "                                                        'saves':np.sum,'goals_conceded':np.sum,'clean_sheets':np.sum}).shift(1).fillna(0)\n",
    "\n",
    "# Rename coloumns\n",
    "df.rename(columns = {'minutes':'minutes_sum','bps':'bps_sum','goals_scored':'goals_sum','assists':'assists_sum','points':'points_sum',\n",
    "                      'saves':'saves_sum','yellow_cards':'yel_sum','red_cards':'red_sum','transfers_balance':'tran_sum',\n",
    "                      'goals_conceded':'goals_con_sum','clean_sheets':'clean_sheets_sum','creativity':'creat_sum','threat':'threat_sum',\n",
    "                      'ict_index':'ict_sum','influence':'influence_sum'}, inplace = True)\n",
    "\n",
    "# Add player information back by merging the stats and the const_cols dfs\n",
    "df = pd.merge(df_const_cols,df, on=['GW','player_id']).reset_index()\n",
    "\n",
    "# Remove Gameweek rows less than n_prev_gws\n",
    "df = df[df.GW>n_prev_gws]\n",
    "df = df[df.minutes > 0]\n",
    "\n",
    "# Save csvs\n",
    "df['season'] = 2122\n",
    "#only for the first season, use header=true\n",
    "# df.to_csv(\"Player_Data_1.csv\",mode='a',header='true')\n",
    "\n",
    "df.to_csv(\"Player_Data_1.csv\",mode='a',header='false')"
   ]
  }
 ],
 "metadata": {
  "colab": {
   "collapsed_sections": [
    "hnImb0p921nn"
   ],
   "name": "Data Preperation",
   "provenance": []
  },
  "kernelspec": {
   "display_name": "Python 3",
   "language": "python",
   "name": "python3"
  },
  "language_info": {
   "codemirror_mode": {
    "name": "ipython",
    "version": 3
   },
   "file_extension": ".py",
   "mimetype": "text/x-python",
   "name": "python",
   "nbconvert_exporter": "python",
   "pygments_lexer": "ipython3",
   "version": "3.7.4"
  }
 },
 "nbformat": 4,
 "nbformat_minor": 1
}
