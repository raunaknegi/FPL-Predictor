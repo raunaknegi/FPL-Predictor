{
 "cells": [
  {
   "cell_type": "markdown",
   "metadata": {
    "colab_type": "text",
    "id": "VRH0FU7DHsWv"
   },
   "source": [
    "### **Imports**"
   ]
  },
  {
   "cell_type": "code",
   "execution_count": 9,
   "metadata": {
    "colab": {
     "base_uri": "https://localhost:8080/",
     "height": 124
    },
    "colab_type": "code",
    "id": "G1LRYxniHlz4",
    "outputId": "eac81efb-af80-4841-933f-b3939ac4712a"
   },
   "outputs": [
    {
     "name": "stdout",
     "output_type": "stream",
     "text": [
      "Requirement already satisfied: pulp in c:\\users\\raunak\\anaconda3\\lib\\site-packages (2.5.1)\n"
     ]
    }
   ],
   "source": [
    "import pandas as pd\n",
    "import numpy as np\n",
    "!pip install pulp\n",
    "import pulp\n",
    "from sklearn import linear_model\n",
    "pd.options.mode.chained_assignment = None"
   ]
  },
  {
   "cell_type": "markdown",
   "metadata": {
    "colab_type": "text",
    "id": "77w3qu--JOv1"
   },
   "source": [
    "### **Predictions**\n",
    "Calculate predictions with individual models trained for each position"
   ]
  },
  {
   "cell_type": "code",
   "execution_count": 10,
   "metadata": {
    "colab": {},
    "colab_type": "code",
    "id": "2jshhGXFJRfJ"
   },
   "outputs": [
    {
     "name": "stdout",
     "output_type": "stream",
     "text": [
      "GK  Mean Error: 2.339\n",
      "DEF Mean Error: 2.376\n",
      "MID Mean Error: 1.778\n",
      "FWD Mean Error: 2.372\n",
      "\n",
      "Total Mean Error: 2.105\n"
     ]
    }
   ],
   "source": [
    "data = pd.read_csv('C:/Users/Raunak/Desktop/ML Projects/FPL/Fantasy-Football-Team-Predictions/Data/Player_Data_1.csv', index_col = 0)\n",
    "train_data = data[data.season != 2122]\n",
    "test_data = data[data.season == 2122]\n",
    "\n",
    "gk_train = train_data[train_data.position == 1]\n",
    "gk_test = test_data[test_data.position == 1]\n",
    "\n",
    "def_train = train_data[train_data.position == 2]\n",
    "def_test = test_data[test_data.position == 2]\n",
    "\n",
    "mid_train = train_data[train_data.position == 3]\n",
    "mid_test = test_data[test_data.position == 3]\n",
    "\n",
    "fwd_train = train_data[train_data.position == 4]\n",
    "fwd_test = test_data[test_data.position == 4]\n",
    "\n",
    "features = ['opp_diff','was_home','minutes_sum','bps_sum',\n",
    "              'influence_sum','threat_sum','ict_sum','creat_sum',\n",
    "              'yel_sum','red_sum','selected_by','tran_sum',\n",
    "              'goals_sum','assists_sum','points_sum','value',\n",
    "              'saves_sum','goals_con_sum','clean_sheets_sum']\n",
    "\n",
    "gk_model = linear_model.LinearRegression(False,False,True,None)\n",
    "gk_model.fit(gk_train[features],gk_train.points)\n",
    "\n",
    "def_model = linear_model.LinearRegression(False,False,True,None)\n",
    "def_model.fit(def_train[features],def_train.points)\n",
    "\n",
    "mid_model = linear_model.LinearRegression(False,False,True,None)\n",
    "mid_model.fit(mid_train[features],mid_train.points)\n",
    "\n",
    "fwd_model = linear_model.LinearRegression(False,False,True,None)\n",
    "fwd_model.fit(fwd_train[features],fwd_train.points)\n",
    "\n",
    "gk_test['prediction'] = gk_model.predict(gk_test[features])\n",
    "gk_test['prediction_error'] = abs(gk_test.prediction - gk_test.points)\n",
    "\n",
    "def_test['prediction'] = def_model.predict(def_test[features])\n",
    "def_test['prediction_error'] = abs(def_test.prediction - def_test.points)\n",
    "\n",
    "mid_test['prediction'] = mid_model.predict(mid_test[features])\n",
    "mid_test['prediction_error'] = abs(mid_test.prediction - mid_test.points)\n",
    "\n",
    "fwd_test['prediction'] = fwd_model.predict(fwd_test[features])\n",
    "fwd_test['prediction_error'] = abs(fwd_test.prediction - fwd_test.points)\n",
    "\n",
    "all_predictions = pd.concat([gk_test, def_test, mid_test, fwd_test])\n",
    "\n",
    "print('GK  Mean Error: ' + str(round(gk_test.prediction_error.mean(),3)))\n",
    "print('DEF Mean Error: ' + str(round(def_test.prediction_error.mean(),3)))\n",
    "print('MID Mean Error: ' + str(round(mid_test.prediction_error.mean(),3)))\n",
    "print('FWD Mean Error: ' + str(round(fwd_test.prediction_error.mean(),3)) + '\\n')\n",
    "print('Total Mean Error: ' + str(round((all_predictions.prediction_error.mean()),3)))"
   ]
  },
  {
   "cell_type": "markdown",
   "metadata": {
    "colab_type": "text",
    "id": "EiyJRwuVJnhA"
   },
   "source": [
    "### **Select Team Functions**\n",
    "Linear optimisation used to calculate the best legal team for each gameweek"
   ]
  },
  {
   "cell_type": "code",
   "execution_count": 36,
   "metadata": {
    "colab": {},
    "colab_type": "code",
    "id": "Rx5agg6TJpqw"
   },
   "outputs": [],
   "source": [
    "# Select a team for a given gameweek\n",
    "def select(gw, data_in, print_output=False):\n",
    "    sub_factor = 0.1\n",
    "    data_in = data_in[data_in.GW == gw]\n",
    "    first_team, captain, subs, cal_points = select_team(data_in, 100, sub_factor)\n",
    "\n",
    "    real_points_total = 0\n",
    "    predicted_points_total = 0\n",
    "    total_cost = 0\n",
    "\n",
    "    if(print_output):\n",
    "        print('Starting team')\n",
    "\n",
    "    for i in range(data_in.shape[0]):\n",
    "\n",
    "        if captain[i].value() != 0:\n",
    "            if(print_output):\n",
    "                print(print_player(data_in.iloc[i]) + ' (Captain)')\n",
    "            predicted_points_total += (data_in.iloc[i].prediction * 2)\n",
    "            real_points_total += (data_in.iloc[i].points * 2)\n",
    "            total_cost += data_in.iloc[i].value\n",
    "\n",
    "        elif first_team[i].value() != 0:\n",
    "            if(print_output):\n",
    "                print(print_player(data_in.iloc[i]))\n",
    "\n",
    "            predicted_points_total += data_in.iloc[i].prediction\n",
    "            real_points_total += data_in.iloc[i].points\n",
    "            total_cost += data_in.iloc[i].value\n",
    "\n",
    "    if(print_output):\n",
    "        print('\\n' + 'Substitutes')\n",
    "\n",
    "    for i in range(data_in.shape[0]):\n",
    "        if subs[i].value() != 0:\n",
    "            if(print_output):\n",
    "                print(print_player(data_in.iloc[i]))\n",
    "            total_cost += data_in.iloc[i].value\n",
    "\n",
    "    error = abs(real_points_total - predicted_points_total)\n",
    "\n",
    "    if(print_output):\n",
    "        print('\\n' + 'Predicted Points    ' + str(round(predicted_points_total,2)))\n",
    "        print('Real Points         '        + str(real_points_total))\n",
    "        print('Error               '        + str(abs(round(error,2))))\n",
    "        print('Cost                '        + '£' + str(round(total_cost/10.0,2)) + 'M\\n')  \n",
    "\n",
    "    return predicted_points_total, real_points_total, total_cost/10.0, error\n",
    "\n",
    "def print_player(player):\n",
    "    return  ' [' + str(player.player_id) + '] ' + ' (Pred:' + str(round(player.prediction,1)) + ' | Real:' + str(round(player.points,2)) + ') ' +  player.first_name + ' ' + player.second_name\n",
    "\n",
    "# Runs selection over a range of gameweeks\n",
    "def select_range(start_gw, end_gw, data_in):\n",
    "    total_error = 0\n",
    "    points = 0\n",
    "    real_points = 0\n",
    "    for gw in range(start_gw, end_gw):\n",
    "        predicted_score, real_score, _, error = select(gw, data_in, False)\n",
    "        print('GW' + str(gw) + '---------------------------')\n",
    "        print('Predicted Score : ' + str(round(predicted_score,2)) + ' Points')\n",
    "        print('Real Score      : ' + str(real_score) + '.00 Points')\n",
    "        total_error += abs(error)\n",
    "        points += predicted_score\n",
    "        real_points += real_score\n",
    "\n",
    "    print('\\nPredicted       ' + str(round(points,2)))\n",
    "    print('Real            ' + str(round(real_points,2)))\n",
    "    print('Total Error     ' + str(round(total_error,2)))\n",
    "    print('Average Error   ' + str(round(total_error / (end_gw - start_gw),2)))\n",
    "\n",
    "def select_team(player_data, budget, sub_factor):\n",
    "    num_players = len(player_data)\n",
    "    model = pulp.LpProblem(\"Constrained_value_maximisation\", pulp.LpMaximize)\n",
    "\n",
    "    # Array to store players selected for the starting team\n",
    "    decisions = [ pulp.LpVariable(\"x{}\".format(i), lowBound=0, upBound=1, cat='Integer') for i in range(num_players)]\n",
    "\n",
    "    # Array to captain decision\n",
    "    captain_decisions = [pulp.LpVariable(\"y{}\".format(i), lowBound=0, upBound=1, cat='Integer')for i in range(num_players)]\n",
    "\n",
    "    # Array to store sub decisions\n",
    "    sub_decisions = [pulp.LpVariable(\"z{}\".format(i), lowBound=0, upBound=1, cat='Integer') for i in range(num_players)]\n",
    "\n",
    "    # objective function\n",
    "    model += sum((captain_decisions[i] + decisions[i] + sub_decisions[i]*sub_factor) * player_data.iloc[i].prediction\n",
    "                    for i in range(num_players)), \"Objective\"\n",
    "\n",
    "    # cost constraint\n",
    "    model += sum((decisions[i] + sub_decisions[i]) * (player_data.iloc[i].value / 10.0)\n",
    "                  for i in range(num_players)) <= budget  # total cost\n",
    "\n",
    "    # position constraints\n",
    "    # 1 starting goalkeeper\n",
    "    model += sum(decisions[i] for i in range(num_players) if player_data.iloc[i].position == 1) == 1\n",
    "    # 2 total goalkeepers\n",
    "    model += sum(decisions[i] + sub_decisions[i] for i in range(num_players) if player_data.iloc[i].position == 1) == 2\n",
    "    \n",
    "    # Select the starting defenders\n",
    "    # Must be between 3 and 5 starting defenders\n",
    "    model += sum(decisions[i] for i in range(num_players) if player_data.iloc[i].position == 2) >= 3\n",
    "\n",
    "    model += sum(decisions[i] for i in range(num_players) if player_data.iloc[i].position == 2) <= 5\n",
    "\n",
    "    # Select all defenders\n",
    "    # Must be 5 defenders selected\n",
    "    model += sum(decisions[i] + sub_decisions[i] for i in range(num_players) if player_data.iloc[i].position == 2) == 5\n",
    "\n",
    "    # Select midfielders\n",
    "    # Must be between 3 and 5 starting midfielders selected\n",
    "    model += sum(decisions[i] for i in range(num_players) if player_data.iloc[i].position == 3) >= 3\n",
    "    model += sum(decisions[i] for i in range(num_players) if player_data.iloc[i].position == 3) <= 5\n",
    "\n",
    "\n",
    "    # 5 all midfielders\n",
    "    # Must be 5 midfielders selected\n",
    "    model += sum(decisions[i] + sub_decisions[i]\n",
    "                   for i in range(num_players) if player_data.iloc[i].position == 3) == 5\n",
    "\n",
    "    # Select forwards\n",
    "    # Must be between 1 and 3 starting forwards\n",
    "    model += sum(decisions[i] for i in range(num_players) if player_data.iloc[i].position == 4) >= 1\n",
    "    model += sum(decisions[i] for i in range(num_players) if player_data.iloc[i].position == 4) <= 3\n",
    "\n",
    "    # Must be 3 forwards selected\n",
    "    model += sum(decisions[i] + sub_decisions[i] for i in range(num_players) if player_data.iloc[i].position == 4) == 3\n",
    "\n",
    "    # Only 3 players can be selected from a single club\n",
    "    team_codes = np.unique(player_data.team_code)\n",
    "    for team_id in np.unique(team_codes):\n",
    "        model += sum(decisions[i] + sub_decisions[i]\n",
    "        for i in range(num_players) if player_data.iloc[i].team_code == team_id) <= 3  # max 3 players\n",
    "\n",
    "    # 11 starting players must be selected\n",
    "    model += sum(decisions) == 11\n",
    "\n",
    "    # 1 of the starting players must be selected as captain\n",
    "    model += sum(captain_decisions) == 1  # 1 captain\n",
    "  \n",
    "    # Check player selections are valid\n",
    "    for i in range(num_players):  \n",
    "        # Captain has to be present in starting team\n",
    "        model += (decisions[i] - captain_decisions[i]) >= 0\n",
    "        # Subs cannot be present in starting team\n",
    "        model += (decisions[i] + sub_decisions[i]) <= 1 \n",
    "\n",
    "    model.solve()\n",
    "\n",
    "    return decisions, captain_decisions, sub_decisions, model.objective.value()"
   ]
  },
  {
   "cell_type": "markdown",
   "metadata": {
    "colab_type": "text",
    "id": "UR0DeGdqKAWW"
   },
   "source": [
    "### **Generate Predictions**\n",
    "gw = the gameweek to make predictions for"
   ]
  },
  {
   "cell_type": "code",
   "execution_count": 39,
   "metadata": {
    "colab": {
     "base_uri": "https://localhost:8080/",
     "height": 444
    },
    "colab_type": "code",
    "id": "j6R_0acgKFj7",
    "outputId": "e6a68edb-71c7-4e81-947f-d75687dd2e10"
   },
   "outputs": [
    {
     "name": "stdout",
     "output_type": "stream",
     "text": [
      "Starting team\n",
      " [30]  (Pred:4.7 | Real:1) Emiliano Martínez\n",
      " [56]  (Pred:4.0 | Real:5) Shane Duffy\n",
      " [38]  (Pred:4.0 | Real:0) Tyrone Mings\n",
      " [256]  (Pred:5.4 | Real:6) João Pedro Cavaco Cancelo\n",
      " [229]  (Pred:5.1 | Real:6) Virgil van Dijk\n",
      " [262]  (Pred:5.6 | Real:1) Rúben Santos Gato Alves Dias\n",
      " [251]  (Pred:6.7 | Real:11) Kevin De Bruyne\n",
      " [233]  (Pred:7.2 | Real:13) Mohamed Salah (Captain)\n",
      " [359]  (Pred:5.9 | Real:9) Heung-Min Son\n",
      " [307]  (Pred:4.6 | Real:2) Allan Saint-Maximin\n",
      " [63]  (Pred:4.3 | Real:2) Neal Maupay\n",
      "\n",
      "Substitutes\n",
      " [242]  (Pred:3.1 | Real:6) Caoimhin Kelleher\n",
      " [309]  (Pred:2.8 | Real:0) Sean Longstaff\n",
      " [50]  (Pred:3.3 | Real:3) Douglas Luiz Soares de Paulo\n",
      " [577]  (Pred:1.1 | Real:1) Joe Gelhardt\n",
      "\n",
      "Predicted Points    64.69\n",
      "Real Points         69\n",
      "Error               4.31\n",
      "Cost                £100.0M\n",
      "\n"
     ]
    }
   ],
   "source": [
    "gw = 8\n",
    "predicted_points, real_points, cost,_ = select(gw,all_predictions,True)"
   ]
  },
  {
   "cell_type": "code",
   "execution_count": 40,
   "metadata": {
    "colab": {
     "base_uri": "https://localhost:8080/",
     "height": 1000
    },
    "colab_type": "code",
    "id": "k4U1p-L6m-cI",
    "outputId": "4e81f8ed-220a-4974-bda8-8355579c305b"
   },
   "outputs": [
    {
     "name": "stdout",
     "output_type": "stream",
     "text": [
      "GW4---------------------------\n",
      "Predicted Score : 65.38 Points\n",
      "Real Score      : 62.00 Points\n",
      "GW5---------------------------\n",
      "Predicted Score : 65.55 Points\n",
      "Real Score      : 79.00 Points\n",
      "GW6---------------------------\n",
      "Predicted Score : 65.24 Points\n",
      "Real Score      : 53.00 Points\n",
      "GW7---------------------------\n",
      "Predicted Score : 66.98 Points\n",
      "Real Score      : 39.00 Points\n",
      "\n",
      "Predicted       263.15\n",
      "Real            233\n",
      "Total Error     57.05\n",
      "Average Error   14.26\n"
     ]
    }
   ],
   "source": [
    "select_range(4,8, all_predictions)"
   ]
  },
  {
   "cell_type": "code",
   "execution_count": null,
   "metadata": {},
   "outputs": [],
   "source": []
  }
 ],
 "metadata": {
  "colab": {
   "collapsed_sections": [
    "EiyJRwuVJnhA"
   ],
   "name": "FPL Prediction Pipeline",
   "provenance": []
  },
  "kernelspec": {
   "display_name": "Python 3",
   "language": "python",
   "name": "python3"
  },
  "language_info": {
   "codemirror_mode": {
    "name": "ipython",
    "version": 3
   },
   "file_extension": ".py",
   "mimetype": "text/x-python",
   "name": "python",
   "nbconvert_exporter": "python",
   "pygments_lexer": "ipython3",
   "version": "3.7.4"
  }
 },
 "nbformat": 4,
 "nbformat_minor": 1
}
